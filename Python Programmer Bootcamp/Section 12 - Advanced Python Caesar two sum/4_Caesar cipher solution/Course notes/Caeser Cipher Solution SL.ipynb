{
 "cells": [
  {
   "cell_type": "markdown",
   "id": "12a3a5c6-acfa-4679-968f-607ef92e1544",
   "metadata": {},
   "source": [
    "Write a function that takes a text (to be ciphered) and a number as the parameter to apply the Cipher algorithm. "
   ]
  },
  {
   "cell_type": "code",
   "execution_count": 69,
   "id": "1bc929a1-1ee0-4e4a-9fe2-a1f97ca6e696",
   "metadata": {},
   "outputs": [],
   "source": [
    "import string\n",
    "\n",
    "def ceaserencrypt(word, number):\n",
    "    alphabet = list(string.ascii_lowercase)\n",
    "    encrypted_list = []\n",
    "    unencrypted_list = word\n",
    "    for i in word:\n",
    "        # print(i)\n",
    "        # get the index number of each letter from the word argument in the English alphabet and add the argument number to the position number\n",
    "        # to create the caeser envryption\n",
    "        cipher_new_letter_position = alphabet.index(i.lower())+int(number)\n",
    "        # print(cipher_new_letter_position)\n",
    "        enrypted_letter = alphabet[cipher_new_letter_position]\n",
    "        # print(enrypted_letter)\n",
    "        encrypted_list.append(enrypted_letter)\n",
    "    encrypted_string = \"\".join(encrypted_list)\n",
    "    print(unencrypted_list)\n",
    "    print(encrypted_string)"
   ]
  },
  {
   "cell_type": "code",
   "execution_count": 70,
   "id": "229c9724-71e7-4d90-908f-acccfa7621c5",
   "metadata": {},
   "outputs": [
    {
     "name": "stdout",
     "output_type": "stream",
     "text": [
      "Segun\n",
      "xjlzs\n"
     ]
    }
   ],
   "source": [
    "ceaserencrypt(\"Segun\",5)"
   ]
  },
  {
   "cell_type": "code",
   "execution_count": null,
   "id": "047a8a9c-cc7c-4e72-89ef-91b44a79f313",
   "metadata": {},
   "outputs": [],
   "source": []
  }
 ],
 "metadata": {
  "kernelspec": {
   "display_name": "Python 3 (ipykernel)",
   "language": "python",
   "name": "python3"
  },
  "language_info": {
   "codemirror_mode": {
    "name": "ipython",
    "version": 3
   },
   "file_extension": ".py",
   "mimetype": "text/x-python",
   "name": "python",
   "nbconvert_exporter": "python",
   "pygments_lexer": "ipython3",
   "version": "3.12.7"
  }
 },
 "nbformat": 4,
 "nbformat_minor": 5
}
