{
 "cells": [
  {
   "cell_type": "markdown",
   "id": "12a3a5c6-acfa-4679-968f-607ef92e1544",
   "metadata": {},
   "source": [
    "Write a function that takes a text (to be ciphered) and a number as the parameter to apply the Cipher algorithm. Write another function that reverses the ciphered text back to it's original based on the number parameter.\n",
    "\n",
    "(Not the most elegant solution but it works!)"
   ]
  },
  {
   "cell_type": "code",
   "execution_count": 90,
   "id": "1bc929a1-1ee0-4e4a-9fe2-a1f97ca6e696",
   "metadata": {},
   "outputs": [],
   "source": [
    "import string\n",
    "\n",
    "'''\n",
    "A function which encrypts a given word using ceaser cipher given an input number\n",
    "'''\n",
    "def ceaserencrypt(word, number):\n",
    "    if number > 30:\n",
    "        print(f\"Your input number {number} must be less than 30\")\n",
    "    elif number == 25:\n",
    "        print(f\"Your input number {number} is equal to 25. Input number cannot be equal to 25\")\n",
    "        # Exit the function\n",
    "        return\n",
    "\n",
    "    alphabet = list(string.ascii_lowercase)\n",
    "    encrypted_list = []\n",
    "    word = word.lower()\n",
    "    for i in word:\n",
    "        if i in alphabet:\n",
    "            if alphabet.index(i.lower())+int(number) > 25:\n",
    "                cipher_new_letter_position = alphabet.index(i.lower())+int(number)-25\n",
    "                enrypted_letter = alphabet[cipher_new_letter_position]\n",
    "                encrypted_list.append(enrypted_letter)\n",
    "            else:\n",
    "                cipher_new_letter_position = alphabet.index(i.lower())+int(number)\n",
    "                enrypted_letter = alphabet[cipher_new_letter_position]\n",
    "                encrypted_list.append(enrypted_letter)\n",
    "        else:\n",
    "            encrypted_list.append(i)   \n",
    "    encrypted_string = \"\".join(encrypted_list)\n",
    "    print(encrypted_string)"
   ]
  },
  {
   "cell_type": "code",
   "execution_count": 91,
   "id": "229c9724-71e7-4d90-908f-acccfa7621c5",
   "metadata": {},
   "outputs": [
    {
     "name": "stdout",
     "output_type": "stream",
     "text": [
      "bol jhb zhb vu bol thb\n"
     ]
    }
   ],
   "source": [
    "ceaserencrypt(\"The cat sat on the mat\",7)"
   ]
  },
  {
   "cell_type": "code",
   "execution_count": 88,
   "id": "3d875725-1224-443d-8f9c-523dc049bd8a",
   "metadata": {},
   "outputs": [],
   "source": [
    "import string\n",
    "\n",
    "'''\n",
    "A function which decrypts a given word using ceaser cipher given an input number\n",
    "'''\n",
    "def ceaserdecrypt(word, number):\n",
    "    if number > 30:\n",
    "        print(f\"Your input number {number} must be less than 30\")\n",
    "    elif number == 25:\n",
    "        print(f\"Your input number {number} is equal to 25. Input number cannot be equal to 25\")\n",
    "        # Exit the function\n",
    "        return\n",
    "\n",
    "    number = number*(-1)\n",
    "    \n",
    "    alphabet = list(string.ascii_lowercase)\n",
    "    decrypted_list = []\n",
    "    word = word.lower()\n",
    "    for i in word:\n",
    "        if i in alphabet:\n",
    "            if alphabet.index(i.lower())+int(number) < 0:\n",
    "                cipher_new_letter_position = alphabet.index(i.lower())+int(number)-1\n",
    "                decrypted_letter = alphabet[cipher_new_letter_position]\n",
    "                decrypted_list.append(decrypted_letter)\n",
    "            else:\n",
    "                cipher_new_letter_position = alphabet.index(i.lower())+int(number)\n",
    "                decrypted_letter = alphabet[cipher_new_letter_position]\n",
    "                decrypted_list.append(decrypted_letter)\n",
    "        else:\n",
    "            decrypted_list.append(i)   \n",
    "    decrypted_string = \"\".join(decrypted_list)\n",
    "    print(decrypted_string)"
   ]
  },
  {
   "cell_type": "code",
   "execution_count": 89,
   "id": "5c09ca0b-a0de-4088-a138-5fd60cf503b5",
   "metadata": {},
   "outputs": [
    {
     "name": "stdout",
     "output_type": "stream",
     "text": [
      "the cat sat on the mat\n"
     ]
    }
   ],
   "source": [
    "ceaserdecrypt(\"bol jhb zhb vu bol thb\",7)"
   ]
  },
  {
   "cell_type": "code",
   "execution_count": 46,
   "id": "78f367db-4b8e-478f-a641-e40baefc47f4",
   "metadata": {},
   "outputs": [
    {
     "name": "stdout",
     "output_type": "stream",
     "text": [
      "['a', 'b', 'c', 'd', 'e', 'f', 'g', 'h', 'i', 'j', 'k', 'l', 'm', 'n', 'o', 'p', 'q', 'r', 's', 't', 'u', 'v', 'w', 'x', 'y', 'z']\n"
     ]
    }
   ],
   "source": [
    "print(list(string.ascii_lowercase))"
   ]
  },
  {
   "cell_type": "code",
   "execution_count": 83,
   "id": "5429568f-b000-4352-a80c-6d20d37da470",
   "metadata": {},
   "outputs": [
    {
     "data": {
      "text/plain": [
       "1"
      ]
     },
     "execution_count": 83,
     "metadata": {},
     "output_type": "execute_result"
    }
   ],
   "source": [
    "alphabet = list(string.ascii_lowercase)\n",
    "alphabet.index(\"b\")"
   ]
  },
  {
   "cell_type": "code",
   "execution_count": 63,
   "id": "df803e6e-4584-4f10-af0f-b8670082447c",
   "metadata": {},
   "outputs": [
    {
     "data": {
      "text/plain": [
       "'e'"
      ]
     },
     "execution_count": 63,
     "metadata": {},
     "output_type": "execute_result"
    }
   ],
   "source": [
    "alphabet[4]"
   ]
  },
  {
   "cell_type": "code",
   "execution_count": null,
   "id": "5a378307-05f1-4482-a531-709de2781768",
   "metadata": {},
   "outputs": [],
   "source": []
  }
 ],
 "metadata": {
  "kernelspec": {
   "display_name": "Python 3 (ipykernel)",
   "language": "python",
   "name": "python3"
  },
  "language_info": {
   "codemirror_mode": {
    "name": "ipython",
    "version": 3
   },
   "file_extension": ".py",
   "mimetype": "text/x-python",
   "name": "python",
   "nbconvert_exporter": "python",
   "pygments_lexer": "ipython3",
   "version": "3.12.7"
  }
 },
 "nbformat": 4,
 "nbformat_minor": 5
}
