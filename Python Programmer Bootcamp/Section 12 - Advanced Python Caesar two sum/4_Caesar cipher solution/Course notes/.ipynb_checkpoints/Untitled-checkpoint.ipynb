{
 "cells": [
  {
   "cell_type": "code",
   "execution_count": null,
   "id": "098bece0-ca05-45a4-801c-ae521ee12e05",
   "metadata": {},
   "outputs": [],
   "source": []
  }
 ],
 "metadata": {
  "kernelspec": {
   "display_name": "",
   "name": ""
  },
  "language_info": {
   "name": ""
  }
 },
 "nbformat": 4,
 "nbformat_minor": 5
}
