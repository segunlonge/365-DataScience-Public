{
 "cells": [
  {
   "cell_type": "markdown",
   "id": "983c9c8d-4af2-4707-89d2-305f003eb579",
   "metadata": {},
   "source": [
    "Dealing with exponents"
   ]
  },
  {
   "cell_type": "code",
   "execution_count": 3,
   "id": "cfd567fb-8771-44f2-8aa7-8e31578e10d8",
   "metadata": {},
   "outputs": [
    {
     "data": {
      "text/plain": [
       "9"
      ]
     },
     "execution_count": 3,
     "metadata": {},
     "output_type": "execute_result"
    }
   ],
   "source": [
    "3**2"
   ]
  },
  {
   "cell_type": "markdown",
   "id": "3b43dd6f-351a-48d1-bd20-b5657d21fc70",
   "metadata": {},
   "source": [
    "Dealing with remainders"
   ]
  },
  {
   "cell_type": "code",
   "execution_count": 5,
   "id": "aa1ada6c-7e51-4211-996c-67b50e80f2be",
   "metadata": {},
   "outputs": [
    {
     "data": {
      "text/plain": [
       "1"
      ]
     },
     "execution_count": 5,
     "metadata": {},
     "output_type": "execute_result"
    }
   ],
   "source": [
    "31%5"
   ]
  },
  {
   "cell_type": "code",
   "execution_count": 2,
   "id": "78c227ff-ed38-4c61-84e8-550a9dc4af70",
   "metadata": {},
   "outputs": [
    {
     "data": {
      "text/plain": [
       "5.333333333333333"
      ]
     },
     "execution_count": 2,
     "metadata": {},
     "output_type": "execute_result"
    }
   ],
   "source": [
    "16/3"
   ]
  },
  {
   "cell_type": "markdown",
   "id": "f8dcfcd9-055c-4a4a-bcd3-01bf894945fa",
   "metadata": {},
   "source": [
    "Indexing Elements"
   ]
  },
  {
   "cell_type": "code",
   "execution_count": 4,
   "id": "78221139-7092-4e29-8434-4835796bed36",
   "metadata": {},
   "outputs": [
    {
     "data": {
      "text/plain": [
       "'a'"
      ]
     },
     "execution_count": 4,
     "metadata": {},
     "output_type": "execute_result"
    }
   ],
   "source": [
    "\"Friday\"[4]"
   ]
  },
  {
   "cell_type": "code",
   "execution_count": null,
   "id": "5c345e15-8bac-42f2-8c16-d2e0682fe0f3",
   "metadata": {},
   "outputs": [],
   "source": []
  }
 ],
 "metadata": {
  "kernelspec": {
   "display_name": "Python 3 (ipykernel)",
   "language": "python",
   "name": "python3"
  },
  "language_info": {
   "codemirror_mode": {
    "name": "ipython",
    "version": 3
   },
   "file_extension": ".py",
   "mimetype": "text/x-python",
   "name": "python",
   "nbconvert_exporter": "python",
   "pygments_lexer": "ipython3",
   "version": "3.11.5"
  }
 },
 "nbformat": 4,
 "nbformat_minor": 5
}
