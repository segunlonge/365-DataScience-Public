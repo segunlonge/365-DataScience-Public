{
 "cells": [
  {
   "cell_type": "markdown",
   "id": "b936e428-0aa2-4f7e-ad16-11820dc17c71",
   "metadata": {},
   "source": [
    "A small function to check if a number is a prime number or not"
   ]
  },
  {
   "cell_type": "code",
   "execution_count": 53,
   "id": "5800f3ff-0911-4633-8592-0732ac456219",
   "metadata": {},
   "outputs": [],
   "source": [
    "from math import sqrt"
   ]
  },
  {
   "cell_type": "code",
   "execution_count": 15,
   "id": "20c4e02d-4471-49e3-8f7e-c16bb06de028",
   "metadata": {},
   "outputs": [],
   "source": [
    "def is_prime(n):\n",
    "    flag = True\n",
    "\n",
    "    if n == 0 or n == 1:\n",
    "        flag = False\n",
    "    \n",
    "    i = 2\n",
    "    while i < n:\n",
    "        if n % i == 0:\n",
    "            flag = False\n",
    "        i += 1\n",
    "\n",
    "    return flag"
   ]
  },
  {
   "cell_type": "code",
   "execution_count": 21,
   "id": "235dc86d-aae4-416d-ad17-2bb692ad92e0",
   "metadata": {},
   "outputs": [
    {
     "data": {
      "text/plain": [
       "False"
      ]
     },
     "execution_count": 21,
     "metadata": {},
     "output_type": "execute_result"
    }
   ],
   "source": [
    "is_prime(200)"
   ]
  },
  {
   "cell_type": "markdown",
   "id": "ac534760-6673-44b9-b5af-93a976a3ac79",
   "metadata": {},
   "source": [
    "How many prime numbers are present in the range 100 to 151"
   ]
  },
  {
   "cell_type": "code",
   "execution_count": 37,
   "id": "0ea098bf-41e2-4919-bc73-fca9fee266fa",
   "metadata": {},
   "outputs": [],
   "source": [
    "Number_List = [*range(100,150,1)]"
   ]
  },
  {
   "cell_type": "code",
   "execution_count": 49,
   "id": "fcbe7ecb-65ba-4790-99d0-a68eb5798f30",
   "metadata": {},
   "outputs": [
    {
     "name": "stdout",
     "output_type": "stream",
     "text": [
      "101 103 107 109 113 127 131 137 139 149 \n",
      "\n",
      "10\n"
     ]
    }
   ],
   "source": [
    "prime_count = 0\n",
    "for n in Number_List:\n",
    "    #print(n)\n",
    "    if is_prime(n) == True:\n",
    "        print(n, end = \" \")\n",
    "        prime_count += 1\n",
    "print('\\n')\n",
    "print(prime_count)"
   ]
  },
  {
   "cell_type": "markdown",
   "id": "096bb70d-325a-434d-9752-a3824744894f",
   "metadata": {},
   "source": [
    "Optimised prime number function using math logic: Since the square root of any number is sqrt(n) = sqrt(a * a) = n; we only need to search up to the maximum value of a as the factors of the squre root cannot exceed a"
   ]
  },
  {
   "cell_type": "code",
   "execution_count": 55,
   "id": "61b544be-1156-47fa-868c-a573bd0bdc02",
   "metadata": {},
   "outputs": [],
   "source": [
    "def is_prime_opt(n):\n",
    "    flag = True\n",
    "\n",
    "    if n == 0 or n == 1:\n",
    "        flag = False\n",
    "    \n",
    "    i = 2\n",
    "    while i < sqrt(n):\n",
    "        if n % i == 0:\n",
    "            flag = False\n",
    "        i += 1\n",
    "\n",
    "    return flag"
   ]
  },
  {
   "cell_type": "code",
   "execution_count": 59,
   "id": "962ee3c7-43db-4a24-b5eb-3771103ca895",
   "metadata": {},
   "outputs": [
    {
     "data": {
      "text/plain": [
       "True"
      ]
     },
     "execution_count": 59,
     "metadata": {},
     "output_type": "execute_result"
    }
   ],
   "source": [
    "is_prime_opt(49)"
   ]
  },
  {
   "cell_type": "code",
   "execution_count": null,
   "id": "0a64e7d5-79d7-48df-a6f4-1cbe720d9636",
   "metadata": {},
   "outputs": [],
   "source": []
  }
 ],
 "metadata": {
  "kernelspec": {
   "display_name": "Python 3 (ipykernel)",
   "language": "python",
   "name": "python3"
  },
  "language_info": {
   "codemirror_mode": {
    "name": "ipython",
    "version": 3
   },
   "file_extension": ".py",
   "mimetype": "text/x-python",
   "name": "python",
   "nbconvert_exporter": "python",
   "pygments_lexer": "ipython3",
   "version": "3.11.5"
  }
 },
 "nbformat": 4,
 "nbformat_minor": 5
}
